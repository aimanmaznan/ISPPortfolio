{
 "cells": [
  {
   "cell_type": "code",
   "execution_count": 1,
   "id": "cb487826",
   "metadata": {},
   "outputs": [
    {
     "name": "stdout",
     "output_type": "stream",
     "text": [
      "CSV file 'C:\\Users\\user\\Desktop\\ISP Portfolio\\CustomerDemo_UsagePatternAnalysis\\malaysianet_customer_data.csv' converted to XLSX file 'C:\\Users\\user\\Desktop\\ISP Portfolio\\CustomerDemo_UsagePatternAnalysis\\malaysianet_customer_data.xlsx' successfully.\n"
     ]
    }
   ],
   "source": [
    "import pandas as pd\n",
    "\n",
    "def convert_csv_to_xlsx(csv_file, xlsx_file):\n",
    "    try:\n",
    "        # Read the CSV file using pandas\n",
    "        df = pd.read_csv(csv_file)\n",
    "\n",
    "        # Save the data to an XLSX file\n",
    "        df.to_excel(xlsx_file, index=False)\n",
    "\n",
    "        print(f\"CSV file '{csv_file}' converted to XLSX file '{xlsx_file}' successfully.\")\n",
    "    except Exception as e:\n",
    "        print(f\"Error occurred: {e}\")\n",
    "\n",
    "# Source path for the CSV file\n",
    "csv_file_path = r\"C:\\Users\\user\\Desktop\\ISP Portfolio\\CustomerDemo_UsagePatternAnalysis\\malaysianet_customer_data.csv\"\n",
    "\n",
    "# Destination path for the XLSX file\n",
    "output_xlsx_file = r\"C:\\Users\\user\\Desktop\\ISP Portfolio\\CustomerDemo_UsagePatternAnalysis\\malaysianet_customer_data.xlsx\"\n",
    "\n",
    "# Call the function to convert the CSV to XLSX\n",
    "convert_csv_to_xlsx(csv_file_path, output_xlsx_file)"
   ]
  },
  {
   "cell_type": "code",
   "execution_count": null,
   "id": "e78b6b89",
   "metadata": {},
   "outputs": [],
   "source": []
  }
 ],
 "metadata": {
  "kernelspec": {
   "display_name": "Python 3 (ipykernel)",
   "language": "python",
   "name": "python3"
  },
  "language_info": {
   "codemirror_mode": {
    "name": "ipython",
    "version": 3
   },
   "file_extension": ".py",
   "mimetype": "text/x-python",
   "name": "python",
   "nbconvert_exporter": "python",
   "pygments_lexer": "ipython3",
   "version": "3.11.3"
  }
 },
 "nbformat": 4,
 "nbformat_minor": 5
}
