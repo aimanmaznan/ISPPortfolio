{
 "cells": [
  {
   "cell_type": "code",
   "execution_count": 38,
   "id": "2b90191e",
   "metadata": {},
   "outputs": [],
   "source": [
    "import pandas as pd\n",
    "import numpy as np\n",
    "import random\n",
    "from datetime import datetime, timedelta"
   ]
  },
  {
   "cell_type": "code",
   "execution_count": 39,
   "id": "1415d5cf",
   "metadata": {},
   "outputs": [],
   "source": [
    "# Set the random seed for reproducibility\n",
    "random.seed(42)\n",
    "np.random.seed(42)"
   ]
  },
  {
   "cell_type": "code",
   "execution_count": 40,
   "id": "bd1090dc",
   "metadata": {},
   "outputs": [],
   "source": [
    "# Number of customers in the dataset\n",
    "num_customers = 1000\n"
   ]
  },
  {
   "cell_type": "code",
   "execution_count": 41,
   "id": "f014b183",
   "metadata": {},
   "outputs": [],
   "source": [
    "# Generate customer demographics data\n",
    "customer_ids = range(1, num_customers + 1)\n",
    "ages = np.random.randint(18, 70, num_customers)\n",
    "genders = random.choices(['Male', 'Female'], k=num_customers)\n",
    "cities = random.choices(['Kuala Lumpur','Kuantan', 'Penang', 'Johor Bahru', 'Kuching', 'Kota Kinabalu'], k=num_customers)"
   ]
  },
  {
   "cell_type": "code",
   "execution_count": 42,
   "id": "94b153ef",
   "metadata": {},
   "outputs": [],
   "source": [
    "# Generate subscription plan data\n",
    "subscription_plans = random.choices(['Plan A', 'Plan B', 'Plan C'], k=num_customers)"
   ]
  },
  {
   "cell_type": "code",
   "execution_count": 43,
   "id": "5bdcf001",
   "metadata": {},
   "outputs": [],
   "source": [
    "# Generate customer usage data for each of the 12 months\n",
    "data_usage = np.random.randint(1, 100, size=(num_customers, 12))  # Monthly data usage in GB\n",
    "call_minutes = np.random.randint(50, 1000, size=(num_customers, 12))  # Monthly call minutes\n",
    "sms_usage = np.random.randint(0, 500, size=(num_customers, 12))  # Monthly SMS usage"
   ]
  },
  {
   "cell_type": "code",
   "execution_count": 44,
   "id": "dd8ea8de",
   "metadata": {},
   "outputs": [],
   "source": [
    "# Generate payment data for each of the 12 months\n",
    "billing_amounts = np.random.randint(50, 200, size=(num_customers, 12))\n",
    "payment_dates = [\n",
    "    [\n",
    "        datetime(2022, month, 1) + timedelta(days=random.randint(0, 30))\n",
    "        for month in range(1, 13)\n",
    "    ]\n",
    "    for _ in range(num_customers)\n",
    "]\n",
    "payment_dates = [\n",
    "    [date.strftime('%Y-%m-%d') for date in customer_dates] for customer_dates in payment_dates\n",
    "]"
   ]
  },
  {
   "cell_type": "code",
   "execution_count": 45,
   "id": "59c8a99a",
   "metadata": {},
   "outputs": [],
   "source": [
    "# Generate churn probability for each customer (randomized between 5% and 30%)\n",
    "churn_probabilities = np.random.uniform(0.05, 0.3, num_customers)"
   ]
  },
  {
   "cell_type": "code",
   "execution_count": 46,
   "id": "e4072fb4",
   "metadata": {},
   "outputs": [],
   "source": [
    "# Calculate churn based on payment overdue for two consecutive months with randomized churn probability\n",
    "def calculate_churn(payment_dates, churn_probabilities):\n",
    "    churn_result = []\n",
    "    for dates, churn_prob in zip(payment_dates, churn_probabilities):\n",
    "        is_churned = any(\n",
    "            (datetime.strptime(dates[i], '%Y-%m-%d') - datetime.strptime(dates[i - 1], '%Y-%m-%d')).days > 30\n",
    "            for i in range(1, len(dates))\n",
    "        )\n",
    "        if is_churned and random.random() <= churn_prob:\n",
    "            churn_result.append('Yes')\n",
    "        else:\n",
    "            churn_result.append('No')\n",
    "    return churn_result\n",
    "\n",
    "churn = calculate_churn(payment_dates, churn_probabilities)"
   ]
  },
  {
   "cell_type": "code",
   "execution_count": 47,
   "id": "6bd91e1a",
   "metadata": {},
   "outputs": [],
   "source": [
    "# Combine all the data into a DataFrame\n",
    "data = {\n",
    "    'Customer ID': customer_ids,\n",
    "    'Age': ages,\n",
    "    'Gender': genders,\n",
    "    'City': cities,\n",
    "    'Subscription Plan': subscription_plans,\n",
    "}\n",
    "\n",
    "for i in range(12):\n",
    "    data[f'Data Usage (GB) {i+1}'] = data_usage[:, i]\n",
    "    data[f'Call Minutes {i+1}'] = call_minutes[:, i]\n",
    "    data[f'SMS Usage {i+1}'] = sms_usage[:, i]\n",
    "    data[f'Billing Amount (MYR) {i+1}'] = billing_amounts[:, i]\n",
    "    data[f'Payment Date {i+1}'] = [dates[i] for dates in payment_dates]\n",
    "\n",
    "data['Churn'] = churn\n",
    "\n",
    "df = pd.DataFrame(data)"
   ]
  },
  {
   "cell_type": "code",
   "execution_count": 48,
   "id": "1ba56bf5",
   "metadata": {},
   "outputs": [],
   "source": [
    "# Export the DataFrame to a CSV file\n",
    "df.to_csv(r'C:\\Users\\user\\Desktop\\ISP Portfolio\\CustomerDemo_UsagePatternAnalysis\\malaysianet_customer_data.csv', index=False)"
   ]
  },
  {
   "cell_type": "code",
   "execution_count": 49,
   "id": "4c2ef246",
   "metadata": {},
   "outputs": [
    {
     "name": "stdout",
     "output_type": "stream",
     "text": [
      "   Customer ID  Age  Gender           City Subscription Plan  \\\n",
      "0            1   56  Female   Kuala Lumpur            Plan A   \n",
      "1            2   69    Male        Kuching            Plan B   \n",
      "2            3   46    Male    Johor Bahru            Plan A   \n",
      "3            4   32    Male  Kota Kinabalu            Plan A   \n",
      "4            5   60  Female         Penang            Plan A   \n",
      "\n",
      "   Data Usage (GB) 1  Call Minutes 1  SMS Usage 1  Billing Amount (MYR) 1  \\\n",
      "0                 99             620          299                     125   \n",
      "1                 25             949           15                      89   \n",
      "2                 40             270          375                     175   \n",
      "3                 70             844          460                      81   \n",
      "4                 94             701          334                     185   \n",
      "\n",
      "  Payment Date 1  ...  Call Minutes 11  SMS Usage 11  Billing Amount (MYR) 11  \\\n",
      "0     2022-01-28  ...              470           443                      175   \n",
      "1     2022-01-10  ...              484           345                      103   \n",
      "2     2022-01-24  ...              603           254                      194   \n",
      "3     2022-01-01  ...              420             2                      150   \n",
      "4     2022-01-07  ...              330            60                       65   \n",
      "\n",
      "   Payment Date 11 Data Usage (GB) 12  Call Minutes 12  SMS Usage 12  \\\n",
      "0       2022-11-28                 44              262           139   \n",
      "1       2022-11-13                  8              626           149   \n",
      "2       2022-11-16                 59              700           483   \n",
      "3       2022-11-04                 62              904           183   \n",
      "4       2022-11-22                  6              413           364   \n",
      "\n",
      "   Billing Amount (MYR) 12  Payment Date 12 Churn  \n",
      "0                      141       2022-12-02    No  \n",
      "1                      153       2022-12-06    No  \n",
      "2                      173       2022-12-23    No  \n",
      "3                      166       2022-12-11    No  \n",
      "4                       63       2022-12-10    No  \n",
      "\n",
      "[5 rows x 66 columns]\n"
     ]
    }
   ],
   "source": [
    "# Display the first few rows of the dataset\n",
    "print(df.head())"
   ]
  },
  {
   "cell_type": "code",
   "execution_count": null,
   "id": "d96c1f83",
   "metadata": {},
   "outputs": [],
   "source": []
  }
 ],
 "metadata": {
  "kernelspec": {
   "display_name": "Python 3 (ipykernel)",
   "language": "python",
   "name": "python3"
  },
  "language_info": {
   "codemirror_mode": {
    "name": "ipython",
    "version": 3
   },
   "file_extension": ".py",
   "mimetype": "text/x-python",
   "name": "python",
   "nbconvert_exporter": "python",
   "pygments_lexer": "ipython3",
   "version": "3.11.3"
  }
 },
 "nbformat": 4,
 "nbformat_minor": 5
}
